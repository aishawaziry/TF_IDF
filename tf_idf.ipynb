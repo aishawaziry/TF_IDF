{
 "cells": [
  {
   "cell_type": "code",
   "execution_count": 31,
   "id": "b954f30d",
   "metadata": {},
   "outputs": [],
   "source": [
    "import pandas as pd\n",
    "import math"
   ]
  },
  {
   "cell_type": "code",
   "execution_count": 52,
   "id": "9bc62da7",
   "metadata": {},
   "outputs": [],
   "source": [
    "documentA = 'the woman went out for a walk'\n",
    "documentB = 'the children play hide and seek in the park'"
   ]
  },
  {
   "cell_type": "code",
   "execution_count": 53,
   "id": "76401187",
   "metadata": {},
   "outputs": [],
   "source": [
    "bag1=documentA.split(' ')\n",
    "bag2=documentB.split(' ')"
   ]
  },
  {
   "cell_type": "code",
   "execution_count": 54,
   "id": "f2138a79",
   "metadata": {},
   "outputs": [
    {
     "data": {
      "text/plain": [
       "['the', 'children', 'play', 'hide', 'and', 'seek', 'in', 'the', 'park']"
      ]
     },
     "execution_count": 54,
     "metadata": {},
     "output_type": "execute_result"
    }
   ],
   "source": [
    "bag2"
   ]
  },
  {
   "cell_type": "code",
   "execution_count": 55,
   "id": "5f40e9a3",
   "metadata": {},
   "outputs": [
    {
     "data": {
      "text/plain": [
       "{'a',\n",
       " 'and',\n",
       " 'children',\n",
       " 'for',\n",
       " 'hide',\n",
       " 'in',\n",
       " 'out',\n",
       " 'park',\n",
       " 'play',\n",
       " 'seek',\n",
       " 'the',\n",
       " 'walk',\n",
       " 'went',\n",
       " 'woman'}"
      ]
     },
     "execution_count": 55,
     "metadata": {},
     "output_type": "execute_result"
    }
   ],
   "source": [
    "unionword=set(bag1).union(set(bag2))\n",
    "unionword"
   ]
  },
  {
   "cell_type": "code",
   "execution_count": 56,
   "id": "bc3309a9",
   "metadata": {},
   "outputs": [
    {
     "data": {
      "text/plain": [
       "{'went': 0,\n",
       " 'hide': 0,\n",
       " 'a': 0,\n",
       " 'children': 0,\n",
       " 'and': 0,\n",
       " 'the': 0,\n",
       " 'out': 0,\n",
       " 'for': 0,\n",
       " 'walk': 0,\n",
       " 'seek': 0,\n",
       " 'in': 0,\n",
       " 'play': 0,\n",
       " 'park': 0,\n",
       " 'woman': 0}"
      ]
     },
     "execution_count": 56,
     "metadata": {},
     "output_type": "execute_result"
    }
   ],
   "source": [
    "dictwordA=dict.fromkeys(unionword,0)\n",
    "dictwordA"
   ]
  },
  {
   "cell_type": "code",
   "execution_count": 57,
   "id": "dea71e13",
   "metadata": {},
   "outputs": [
    {
     "data": {
      "text/plain": [
       "{'went': 1,\n",
       " 'hide': 0,\n",
       " 'a': 1,\n",
       " 'children': 0,\n",
       " 'and': 0,\n",
       " 'the': 1,\n",
       " 'out': 1,\n",
       " 'for': 1,\n",
       " 'walk': 1,\n",
       " 'seek': 0,\n",
       " 'in': 0,\n",
       " 'play': 0,\n",
       " 'park': 0,\n",
       " 'woman': 1}"
      ]
     },
     "execution_count": 57,
     "metadata": {},
     "output_type": "execute_result"
    }
   ],
   "source": [
    "for word in bag1:\n",
    "    dictwordA[word]+=1\n",
    "\n",
    "dictwordA  "
   ]
  },
  {
   "cell_type": "code",
   "execution_count": 58,
   "id": "73d2764b",
   "metadata": {},
   "outputs": [
    {
     "data": {
      "text/plain": [
       "{'went': 0,\n",
       " 'hide': 0,\n",
       " 'a': 0,\n",
       " 'children': 0,\n",
       " 'and': 0,\n",
       " 'the': 0,\n",
       " 'out': 0,\n",
       " 'for': 0,\n",
       " 'walk': 0,\n",
       " 'seek': 0,\n",
       " 'in': 0,\n",
       " 'play': 0,\n",
       " 'park': 0,\n",
       " 'woman': 0}"
      ]
     },
     "execution_count": 58,
     "metadata": {},
     "output_type": "execute_result"
    }
   ],
   "source": [
    "dictwordB=dict.fromkeys(unionword,0)\n",
    "dictwordB"
   ]
  },
  {
   "cell_type": "code",
   "execution_count": 59,
   "id": "81585045",
   "metadata": {},
   "outputs": [
    {
     "data": {
      "text/plain": [
       "{'went': 0,\n",
       " 'hide': 1,\n",
       " 'a': 0,\n",
       " 'children': 1,\n",
       " 'and': 1,\n",
       " 'the': 2,\n",
       " 'out': 0,\n",
       " 'for': 0,\n",
       " 'walk': 0,\n",
       " 'seek': 1,\n",
       " 'in': 1,\n",
       " 'play': 1,\n",
       " 'park': 1,\n",
       " 'woman': 0}"
      ]
     },
     "execution_count": 59,
     "metadata": {},
     "output_type": "execute_result"
    }
   ],
   "source": [
    "for word in bag2:\n",
    "    dictwordB[word]+=1\n",
    "\n",
    "dictwordB"
   ]
  },
  {
   "cell_type": "code",
   "execution_count": 60,
   "id": "2654a211",
   "metadata": {},
   "outputs": [],
   "source": [
    "def computeTF(wordDict,bow):\n",
    "    tfdict={}\n",
    "    bagofwords=len(bow)\n",
    "    for word,count in wordDict.items():\n",
    "        tfdict[word]=count/float(bagofwords)\n",
    "    return tfdict"
   ]
  },
  {
   "cell_type": "code",
   "execution_count": 61,
   "id": "6c13f0e1",
   "metadata": {},
   "outputs": [
    {
     "data": {
      "text/plain": [
       "{'went': 0.14285714285714285,\n",
       " 'hide': 0.0,\n",
       " 'a': 0.14285714285714285,\n",
       " 'children': 0.0,\n",
       " 'and': 0.0,\n",
       " 'the': 0.14285714285714285,\n",
       " 'out': 0.14285714285714285,\n",
       " 'for': 0.14285714285714285,\n",
       " 'walk': 0.14285714285714285,\n",
       " 'seek': 0.0,\n",
       " 'in': 0.0,\n",
       " 'play': 0.0,\n",
       " 'park': 0.0,\n",
       " 'woman': 0.14285714285714285}"
      ]
     },
     "execution_count": 61,
     "metadata": {},
     "output_type": "execute_result"
    }
   ],
   "source": [
    "tfA=computeTF(dictwordA,bag1)\n",
    "tfA"
   ]
  },
  {
   "cell_type": "code",
   "execution_count": 62,
   "id": "9154fabb",
   "metadata": {},
   "outputs": [
    {
     "data": {
      "text/plain": [
       "{'went': 0.0,\n",
       " 'hide': 0.1111111111111111,\n",
       " 'a': 0.0,\n",
       " 'children': 0.1111111111111111,\n",
       " 'and': 0.1111111111111111,\n",
       " 'the': 0.2222222222222222,\n",
       " 'out': 0.0,\n",
       " 'for': 0.0,\n",
       " 'walk': 0.0,\n",
       " 'seek': 0.1111111111111111,\n",
       " 'in': 0.1111111111111111,\n",
       " 'play': 0.1111111111111111,\n",
       " 'park': 0.1111111111111111,\n",
       " 'woman': 0.0}"
      ]
     },
     "execution_count": 62,
     "metadata": {},
     "output_type": "execute_result"
    }
   ],
   "source": [
    "tfB=computeTF(dictwordB,bag2)\n",
    "tfB"
   ]
  },
  {
   "cell_type": "code",
   "execution_count": 67,
   "id": "35ec9a9f",
   "metadata": {},
   "outputs": [],
   "source": [
    "def computeIDF(documents):\n",
    "    numOfDoc=len(documents)\n",
    "    idfDict = dict.fromkeys(documents[0].keys(), 0)\n",
    "    for doc in documents:\n",
    "        for word,val in doc.items():\n",
    "            if val>0:\n",
    "                idfDict[word] += 1\n",
    "                \n",
    "    for word,count in idfDict.items():\n",
    "        idfDict[word]=math.log(numOfDoc/float(count))\n",
    "    return idfDict"
   ]
  },
  {
   "cell_type": "code",
   "execution_count": 68,
   "id": "e6eeb537",
   "metadata": {},
   "outputs": [
    {
     "data": {
      "text/plain": [
       "{'went': 0.6931471805599453,\n",
       " 'hide': 0.6931471805599453,\n",
       " 'a': 0.6931471805599453,\n",
       " 'children': 0.6931471805599453,\n",
       " 'and': 0.6931471805599453,\n",
       " 'the': 0.0,\n",
       " 'out': 0.6931471805599453,\n",
       " 'for': 0.6931471805599453,\n",
       " 'walk': 0.6931471805599453,\n",
       " 'seek': 0.6931471805599453,\n",
       " 'in': 0.6931471805599453,\n",
       " 'play': 0.6931471805599453,\n",
       " 'park': 0.6931471805599453,\n",
       " 'woman': 0.6931471805599453}"
      ]
     },
     "execution_count": 68,
     "metadata": {},
     "output_type": "execute_result"
    }
   ],
   "source": [
    "idf=computeIDF([dictwordA, dictwordB])\n",
    "idf"
   ]
  },
  {
   "cell_type": "code",
   "execution_count": 70,
   "id": "398fdb80",
   "metadata": {},
   "outputs": [],
   "source": [
    "def compute_TFIDF(tf,idf):\n",
    "    tf_idf={}\n",
    "    for word,val in idf.items():\n",
    "        tf_idf[word]=val*tf[word]\n",
    "    return tf_idf"
   ]
  },
  {
   "cell_type": "code",
   "execution_count": 71,
   "id": "4ce621ab",
   "metadata": {},
   "outputs": [
    {
     "data": {
      "text/plain": [
       "{'went': 0.09902102579427789,\n",
       " 'hide': 0.0,\n",
       " 'a': 0.09902102579427789,\n",
       " 'children': 0.0,\n",
       " 'and': 0.0,\n",
       " 'the': 0.0,\n",
       " 'out': 0.09902102579427789,\n",
       " 'for': 0.09902102579427789,\n",
       " 'walk': 0.09902102579427789,\n",
       " 'seek': 0.0,\n",
       " 'in': 0.0,\n",
       " 'play': 0.0,\n",
       " 'park': 0.0,\n",
       " 'woman': 0.09902102579427789}"
      ]
     },
     "execution_count": 71,
     "metadata": {},
     "output_type": "execute_result"
    }
   ],
   "source": [
    "tf_idfA=compute_TFIDF(tfA,idf)\n",
    "tf_idfA"
   ]
  },
  {
   "cell_type": "code",
   "execution_count": 72,
   "id": "ae07c450",
   "metadata": {},
   "outputs": [
    {
     "data": {
      "text/plain": [
       "{'went': 0.0,\n",
       " 'hide': 0.07701635339554948,\n",
       " 'a': 0.0,\n",
       " 'children': 0.07701635339554948,\n",
       " 'and': 0.07701635339554948,\n",
       " 'the': 0.0,\n",
       " 'out': 0.0,\n",
       " 'for': 0.0,\n",
       " 'walk': 0.0,\n",
       " 'seek': 0.07701635339554948,\n",
       " 'in': 0.07701635339554948,\n",
       " 'play': 0.07701635339554948,\n",
       " 'park': 0.07701635339554948,\n",
       " 'woman': 0.0}"
      ]
     },
     "execution_count": 72,
     "metadata": {},
     "output_type": "execute_result"
    }
   ],
   "source": [
    "tf_idfB=compute_TFIDF(tfB,idf)\n",
    "tf_idfB"
   ]
  },
  {
   "cell_type": "code",
   "execution_count": 73,
   "id": "a74f8ba7",
   "metadata": {},
   "outputs": [
    {
     "data": {
      "text/html": [
       "<div>\n",
       "<style scoped>\n",
       "    .dataframe tbody tr th:only-of-type {\n",
       "        vertical-align: middle;\n",
       "    }\n",
       "\n",
       "    .dataframe tbody tr th {\n",
       "        vertical-align: top;\n",
       "    }\n",
       "\n",
       "    .dataframe thead th {\n",
       "        text-align: right;\n",
       "    }\n",
       "</style>\n",
       "<table border=\"1\" class=\"dataframe\">\n",
       "  <thead>\n",
       "    <tr style=\"text-align: right;\">\n",
       "      <th></th>\n",
       "      <th>went</th>\n",
       "      <th>hide</th>\n",
       "      <th>a</th>\n",
       "      <th>children</th>\n",
       "      <th>and</th>\n",
       "      <th>the</th>\n",
       "      <th>out</th>\n",
       "      <th>for</th>\n",
       "      <th>walk</th>\n",
       "      <th>seek</th>\n",
       "      <th>in</th>\n",
       "      <th>play</th>\n",
       "      <th>park</th>\n",
       "      <th>woman</th>\n",
       "    </tr>\n",
       "  </thead>\n",
       "  <tbody>\n",
       "    <tr>\n",
       "      <th>0</th>\n",
       "      <td>0.099021</td>\n",
       "      <td>0.000000</td>\n",
       "      <td>0.099021</td>\n",
       "      <td>0.000000</td>\n",
       "      <td>0.000000</td>\n",
       "      <td>0.0</td>\n",
       "      <td>0.099021</td>\n",
       "      <td>0.099021</td>\n",
       "      <td>0.099021</td>\n",
       "      <td>0.000000</td>\n",
       "      <td>0.000000</td>\n",
       "      <td>0.000000</td>\n",
       "      <td>0.000000</td>\n",
       "      <td>0.099021</td>\n",
       "    </tr>\n",
       "    <tr>\n",
       "      <th>1</th>\n",
       "      <td>0.000000</td>\n",
       "      <td>0.077016</td>\n",
       "      <td>0.000000</td>\n",
       "      <td>0.077016</td>\n",
       "      <td>0.077016</td>\n",
       "      <td>0.0</td>\n",
       "      <td>0.000000</td>\n",
       "      <td>0.000000</td>\n",
       "      <td>0.000000</td>\n",
       "      <td>0.077016</td>\n",
       "      <td>0.077016</td>\n",
       "      <td>0.077016</td>\n",
       "      <td>0.077016</td>\n",
       "      <td>0.000000</td>\n",
       "    </tr>\n",
       "  </tbody>\n",
       "</table>\n",
       "</div>"
      ],
      "text/plain": [
       "       went      hide         a  children       and  the       out       for  \\\n",
       "0  0.099021  0.000000  0.099021  0.000000  0.000000  0.0  0.099021  0.099021   \n",
       "1  0.000000  0.077016  0.000000  0.077016  0.077016  0.0  0.000000  0.000000   \n",
       "\n",
       "       walk      seek        in      play      park     woman  \n",
       "0  0.099021  0.000000  0.000000  0.000000  0.000000  0.099021  \n",
       "1  0.000000  0.077016  0.077016  0.077016  0.077016  0.000000  "
      ]
     },
     "execution_count": 73,
     "metadata": {},
     "output_type": "execute_result"
    }
   ],
   "source": [
    "df=pd.DataFrame([tf_idfA,tf_idfB])\n",
    "df"
   ]
  },
  {
   "cell_type": "code",
   "execution_count": 76,
   "id": "23b18df2",
   "metadata": {},
   "outputs": [
    {
     "data": {
      "text/plain": [
       "<2x13 sparse matrix of type '<class 'numpy.float64'>'\n",
       "\twith 14 stored elements in Compressed Sparse Row format>"
      ]
     },
     "execution_count": 76,
     "metadata": {},
     "output_type": "execute_result"
    }
   ],
   "source": [
    "from sklearn.feature_extraction.text import TfidfVectorizer\n",
    "vectorizer = TfidfVectorizer()\n",
    "vectors = vectorizer.fit_transform([documentA, documentB])\n",
    "vectors"
   ]
  },
  {
   "cell_type": "code",
   "execution_count": 86,
   "id": "e50a899b",
   "metadata": {},
   "outputs": [
    {
     "name": "stderr",
     "output_type": "stream",
     "text": [
      "C:\\Users\\aisha\\AppData\\Local\\Programs\\Python\\Python311\\Lib\\site-packages\\sklearn\\utils\\deprecation.py:87: FutureWarning: Function get_feature_names is deprecated; get_feature_names is deprecated in 1.0 and will be removed in 1.2. Please use get_feature_names_out instead.\n",
      "  warnings.warn(msg, category=FutureWarning)\n"
     ]
    },
    {
     "data": {
      "text/html": [
       "<div>\n",
       "<style scoped>\n",
       "    .dataframe tbody tr th:only-of-type {\n",
       "        vertical-align: middle;\n",
       "    }\n",
       "\n",
       "    .dataframe tbody tr th {\n",
       "        vertical-align: top;\n",
       "    }\n",
       "\n",
       "    .dataframe thead th {\n",
       "        text-align: right;\n",
       "    }\n",
       "</style>\n",
       "<table border=\"1\" class=\"dataframe\">\n",
       "  <thead>\n",
       "    <tr style=\"text-align: right;\">\n",
       "      <th></th>\n",
       "      <th>and</th>\n",
       "      <th>children</th>\n",
       "      <th>for</th>\n",
       "      <th>hide</th>\n",
       "      <th>in</th>\n",
       "      <th>out</th>\n",
       "      <th>park</th>\n",
       "      <th>play</th>\n",
       "      <th>seek</th>\n",
       "      <th>the</th>\n",
       "      <th>walk</th>\n",
       "      <th>went</th>\n",
       "      <th>woman</th>\n",
       "    </tr>\n",
       "  </thead>\n",
       "  <tbody>\n",
       "    <tr>\n",
       "      <th>0</th>\n",
       "      <td>0.000000</td>\n",
       "      <td>0.000000</td>\n",
       "      <td>0.42616</td>\n",
       "      <td>0.000000</td>\n",
       "      <td>0.000000</td>\n",
       "      <td>0.42616</td>\n",
       "      <td>0.000000</td>\n",
       "      <td>0.000000</td>\n",
       "      <td>0.000000</td>\n",
       "      <td>0.303216</td>\n",
       "      <td>0.42616</td>\n",
       "      <td>0.42616</td>\n",
       "      <td>0.42616</td>\n",
       "    </tr>\n",
       "    <tr>\n",
       "      <th>1</th>\n",
       "      <td>0.332872</td>\n",
       "      <td>0.332872</td>\n",
       "      <td>0.00000</td>\n",
       "      <td>0.332872</td>\n",
       "      <td>0.332872</td>\n",
       "      <td>0.00000</td>\n",
       "      <td>0.332872</td>\n",
       "      <td>0.332872</td>\n",
       "      <td>0.332872</td>\n",
       "      <td>0.473682</td>\n",
       "      <td>0.00000</td>\n",
       "      <td>0.00000</td>\n",
       "      <td>0.00000</td>\n",
       "    </tr>\n",
       "  </tbody>\n",
       "</table>\n",
       "</div>"
      ],
      "text/plain": [
       "        and  children      for      hide        in      out      park  \\\n",
       "0  0.000000  0.000000  0.42616  0.000000  0.000000  0.42616  0.000000   \n",
       "1  0.332872  0.332872  0.00000  0.332872  0.332872  0.00000  0.332872   \n",
       "\n",
       "       play      seek       the     walk     went    woman  \n",
       "0  0.000000  0.000000  0.303216  0.42616  0.42616  0.42616  \n",
       "1  0.332872  0.332872  0.473682  0.00000  0.00000  0.00000  "
      ]
     },
     "execution_count": 86,
     "metadata": {},
     "output_type": "execute_result"
    }
   ],
   "source": [
    "df=pd.DataFrame(vectors.toarray(),columns=vectorizer.get_feature_names());\n",
    "df"
   ]
  },
  {
   "cell_type": "code",
   "execution_count": null,
   "id": "b4965c4e",
   "metadata": {},
   "outputs": [],
   "source": []
  },
  {
   "cell_type": "code",
   "execution_count": null,
   "id": "700b747e",
   "metadata": {},
   "outputs": [],
   "source": []
  },
  {
   "cell_type": "code",
   "execution_count": null,
   "id": "6788d404",
   "metadata": {},
   "outputs": [],
   "source": []
  },
  {
   "cell_type": "code",
   "execution_count": null,
   "id": "36d695ab",
   "metadata": {},
   "outputs": [],
   "source": []
  },
  {
   "cell_type": "code",
   "execution_count": null,
   "id": "7315cfa4",
   "metadata": {},
   "outputs": [],
   "source": []
  },
  {
   "cell_type": "code",
   "execution_count": null,
   "id": "ff0e5dc4",
   "metadata": {},
   "outputs": [],
   "source": []
  }
 ],
 "metadata": {
  "kernelspec": {
   "display_name": "Python 3 (ipykernel)",
   "language": "python",
   "name": "python3"
  },
  "language_info": {
   "codemirror_mode": {
    "name": "ipython",
    "version": 3
   },
   "file_extension": ".py",
   "mimetype": "text/x-python",
   "name": "python",
   "nbconvert_exporter": "python",
   "pygments_lexer": "ipython3",
   "version": "3.11.2"
  }
 },
 "nbformat": 4,
 "nbformat_minor": 5
}
